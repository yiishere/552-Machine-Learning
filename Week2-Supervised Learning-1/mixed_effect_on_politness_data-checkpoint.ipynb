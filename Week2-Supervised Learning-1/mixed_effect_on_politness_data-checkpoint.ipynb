{
 "cells": [
  {
   "cell_type": "markdown",
   "metadata": {},
   "source": [
    "# Mixed effect:\n",
    "This is a python version of **A very basic tutorial for performing\n",
    "linear mixed effects analyses** about mixed effect model in R. \n",
    "http://www.bodowinter.com/tutorial/bw_LME_tutorial2.pdf\n",
    "\n",
    "This is also interesting read, which is comparing R and python for mixed effect models:\n",
    "https://nbviewer.jupyter.org/urls/umich.box.com/shared/static/6tfc1e0q6jincsv5pgfa.ipynb"
   ]
  },
  {
   "cell_type": "markdown",
   "metadata": {},
   "source": [
    "# Understanding data"
   ]
  },
  {
   "cell_type": "code",
   "execution_count": 1,
   "metadata": {},
   "outputs": [
    {
     "data": {
      "text/html": [
       "<div>\n",
       "<style scoped>\n",
       "    .dataframe tbody tr th:only-of-type {\n",
       "        vertical-align: middle;\n",
       "    }\n",
       "\n",
       "    .dataframe tbody tr th {\n",
       "        vertical-align: top;\n",
       "    }\n",
       "\n",
       "    .dataframe thead th {\n",
       "        text-align: right;\n",
       "    }\n",
       "</style>\n",
       "<table border=\"1\" class=\"dataframe\">\n",
       "  <thead>\n",
       "    <tr style=\"text-align: right;\">\n",
       "      <th></th>\n",
       "      <th>subject</th>\n",
       "      <th>gender</th>\n",
       "      <th>scenario</th>\n",
       "      <th>attitude</th>\n",
       "      <th>frequency</th>\n",
       "    </tr>\n",
       "  </thead>\n",
       "  <tbody>\n",
       "    <tr>\n",
       "      <th>0</th>\n",
       "      <td>F1</td>\n",
       "      <td>F</td>\n",
       "      <td>1</td>\n",
       "      <td>pol</td>\n",
       "      <td>213.3</td>\n",
       "    </tr>\n",
       "    <tr>\n",
       "      <th>1</th>\n",
       "      <td>F1</td>\n",
       "      <td>F</td>\n",
       "      <td>1</td>\n",
       "      <td>inf</td>\n",
       "      <td>204.5</td>\n",
       "    </tr>\n",
       "    <tr>\n",
       "      <th>2</th>\n",
       "      <td>F1</td>\n",
       "      <td>F</td>\n",
       "      <td>2</td>\n",
       "      <td>pol</td>\n",
       "      <td>285.1</td>\n",
       "    </tr>\n",
       "    <tr>\n",
       "      <th>3</th>\n",
       "      <td>F1</td>\n",
       "      <td>F</td>\n",
       "      <td>2</td>\n",
       "      <td>inf</td>\n",
       "      <td>259.7</td>\n",
       "    </tr>\n",
       "    <tr>\n",
       "      <th>4</th>\n",
       "      <td>F1</td>\n",
       "      <td>F</td>\n",
       "      <td>3</td>\n",
       "      <td>pol</td>\n",
       "      <td>203.9</td>\n",
       "    </tr>\n",
       "  </tbody>\n",
       "</table>\n",
       "</div>"
      ],
      "text/plain": [
       "  subject gender  scenario attitude  frequency\n",
       "0      F1      F         1      pol      213.3\n",
       "1      F1      F         1      inf      204.5\n",
       "2      F1      F         2      pol      285.1\n",
       "3      F1      F         2      inf      259.7\n",
       "4      F1      F         3      pol      203.9"
      ]
     },
     "execution_count": 1,
     "metadata": {},
     "output_type": "execute_result"
    }
   ],
   "source": [
    "import numpy as np\n",
    "import pandas as pd\n",
    "import matplotlib.pyplot as plt\n",
    "import statsmodels.api as sm\n",
    "import statsmodels.formula.api as smf\n",
    "    \n",
    "\n",
    "df = pd.read_csv(\"http://www.bodowinter.com/tutorial/politeness_data.csv\")\n",
    "df.head()\n"
   ]
  },
  {
   "cell_type": "code",
   "execution_count": 2,
   "metadata": {},
   "outputs": [
    {
     "data": {
      "image/png": "[encoded data removed]",
      "text/plain": [
       "<Figure size 432x288 with 1 Axes>"
      ]
     },
     "metadata": {
      "needs_background": "light"
     },
     "output_type": "display_data"
    }
   ],
   "source": [
    "df.boxplot(column=['frequency'], by=['subject'])\n",
    "plt.title(\"\")\n",
    "plt.ylabel(\"Mean Pitch (Hertz)\")\n",
    "plt.xlabel(\"Subjects\")\n",
    "plt.show()"
   ]
  },
  {
   "cell_type": "code",
   "execution_count": 3,
   "metadata": {},
   "outputs": [
    {
     "data": {
      "image/png": "[encoded data removed]",
      "text/plain": [
       "<Figure size 432x288 with 1 Axes>"
      ]
     },
     "metadata": {
      "needs_background": "light"
     },
     "output_type": "display_data"
    }
   ],
   "source": [
    "df.boxplot(column=['frequency'], by=['scenario'])\n",
    "plt.title(\"\")\n",
    "plt.ylabel(\"Mean Pitch (Hertz)\")\n",
    "plt.xlabel(\"Items\")\n",
    "plt.show()"
   ]
  },
  {
   "cell_type": "code",
   "execution_count": 4,
   "metadata": {},
   "outputs": [
    {
     "data": {
      "image/png": "[encoded data removed]",
      "text/plain": [
       "<Figure size 432x288 with 1 Axes>"
      ]
     },
     "metadata": {
      "needs_background": "light"
     },
     "output_type": "display_data"
    }
   ],
   "source": [
    "df.boxplot(column=['frequency'], by=['gender', 'attitude'])\n",
    "plt.title(\"\")\n",
    "plt.ylabel(\"Frequency\")\n",
    "plt.show()"
   ]
  },
  {
   "cell_type": "markdown",
   "metadata": {},
   "source": [
    "# Working with data"
   ]
  },
  {
   "cell_type": "code",
   "execution_count": 5,
   "metadata": {},
   "outputs": [
    {
     "name": "stdout",
     "output_type": "stream",
     "text": [
      "Number of elements in dataframe = 83\n"
     ]
    },
    {
     "data": {
      "text/html": [
       "<div>\n",
       "<style scoped>\n",
       "    .dataframe tbody tr th:only-of-type {\n",
       "        vertical-align: middle;\n",
       "    }\n",
       "\n",
       "    .dataframe tbody tr th {\n",
       "        vertical-align: top;\n",
       "    }\n",
       "\n",
       "    .dataframe thead th {\n",
       "        text-align: right;\n",
       "    }\n",
       "</style>\n",
       "<table border=\"1\" class=\"dataframe\">\n",
       "  <thead>\n",
       "    <tr style=\"text-align: right;\">\n",
       "      <th></th>\n",
       "      <th>subject</th>\n",
       "      <th>gender</th>\n",
       "      <th>scenario</th>\n",
       "      <th>attitude</th>\n",
       "      <th>frequency</th>\n",
       "    </tr>\n",
       "  </thead>\n",
       "  <tbody>\n",
       "    <tr>\n",
       "      <th>0</th>\n",
       "      <td>F1</td>\n",
       "      <td>F</td>\n",
       "      <td>1</td>\n",
       "      <td>pol</td>\n",
       "      <td>213.3</td>\n",
       "    </tr>\n",
       "    <tr>\n",
       "      <th>1</th>\n",
       "      <td>F1</td>\n",
       "      <td>F</td>\n",
       "      <td>1</td>\n",
       "      <td>inf</td>\n",
       "      <td>204.5</td>\n",
       "    </tr>\n",
       "    <tr>\n",
       "      <th>2</th>\n",
       "      <td>F1</td>\n",
       "      <td>F</td>\n",
       "      <td>2</td>\n",
       "      <td>pol</td>\n",
       "      <td>285.1</td>\n",
       "    </tr>\n",
       "    <tr>\n",
       "      <th>3</th>\n",
       "      <td>F1</td>\n",
       "      <td>F</td>\n",
       "      <td>2</td>\n",
       "      <td>inf</td>\n",
       "      <td>259.7</td>\n",
       "    </tr>\n",
       "    <tr>\n",
       "      <th>4</th>\n",
       "      <td>F1</td>\n",
       "      <td>F</td>\n",
       "      <td>3</td>\n",
       "      <td>pol</td>\n",
       "      <td>203.9</td>\n",
       "    </tr>\n",
       "  </tbody>\n",
       "</table>\n",
       "</div>"
      ],
      "text/plain": [
       "  subject gender  scenario attitude  frequency\n",
       "0      F1      F         1      pol      213.3\n",
       "1      F1      F         1      inf      204.5\n",
       "2      F1      F         2      pol      285.1\n",
       "3      F1      F         2      inf      259.7\n",
       "4      F1      F         3      pol      203.9"
      ]
     },
     "execution_count": 5,
     "metadata": {},
     "output_type": "execute_result"
    }
   ],
   "source": [
    "df = df[df.frequency.notnull()]\n",
    "print (\"Number of elements in dataframe = {}\".format(len(df)))\n",
    "df.head()"
   ]
  },
  {
   "cell_type": "code",
   "execution_count": 6,
   "metadata": {},
   "outputs": [
    {
     "name": "stdout",
     "output_type": "stream",
     "text": [
      "            Mixed Linear Model Regression Results\n",
      "==============================================================\n",
      "Model:               MixedLM   Dependent Variable:   frequency\n",
      "No. Observations:    83        Method:               REML     \n",
      "No. Groups:          42        Scale:                615.6961 \n",
      "Min. group size:     1         Likelihood:           -430.8261\n",
      "Max. group size:     2         Converged:            Yes      \n",
      "Mean group size:     2.0                                      \n",
      "--------------------------------------------------------------\n",
      "                 Coef.   Std.Err.   z    P>|z|  [0.025  0.975]\n",
      "--------------------------------------------------------------\n",
      "Intercept        202.588   10.078 20.102 0.000 182.836 222.340\n",
      "attitude[T.pol]  -19.618    5.476 -3.582 0.000 -30.350  -8.885\n",
      "Group Var       3650.021   50.224                             \n",
      "==============================================================\n",
      "\n"
     ]
    }
   ],
   "source": [
    "md = smf.mixedlm(\"frequency ~ attitude\", df, groups=(df[\"subject\"] + df[\"scenario\"].map(str)))\n",
    "mdf = md.fit()\n",
    "print(mdf.summary())"
   ]
  },
  {
   "cell_type": "code",
   "execution_count": 7,
   "metadata": {},
   "outputs": [
    {
     "name": "stdout",
     "output_type": "stream",
     "text": [
      "             Mixed Linear Model Regression Results\n",
      "================================================================\n",
      "Model:               MixedLM    Dependent Variable:    frequency\n",
      "No. Observations:    83         Method:                REML     \n",
      "No. Groups:          42         Scale:                 612.4615 \n",
      "Min. group size:     1          Likelihood:            -398.3286\n",
      "Max. group size:     2          Converged:             Yes      \n",
      "Mean group size:     2.0                                        \n",
      "----------------------------------------------------------------\n",
      "                 Coef.   Std.Err.    z    P>|z|  [0.025   0.975]\n",
      "----------------------------------------------------------------\n",
      "Intercept        256.840    7.326  35.061 0.000  242.483 271.198\n",
      "attitude[T.pol]  -19.709    5.451  -3.616 0.000  -30.392  -9.026\n",
      "gender[T.M]     -108.505    9.644 -11.250 0.000 -127.407 -89.602\n",
      "Group Var        664.716   12.365                               \n",
      "================================================================\n",
      "\n"
     ]
    }
   ],
   "source": [
    "md = smf.mixedlm(\"frequency ~ attitude + gender\", df, groups=(df[\"subject\"] + df[\"scenario\"].map(str)))\n",
    "mdf = md.fit()\n",
    "print(mdf.summary())"
   ]
  }
 ],
 "metadata": {
  "kernelspec": {
   "display_name": "virenv",
   "language": "python",
   "name": "virenv"
  },
  "language_info": {
   "codemirror_mode": {
    "name": "ipython",
    "version": 3
   },
   "file_extension": ".py",
   "mimetype": "text/x-python",
   "name": "python",
   "nbconvert_exporter": "python",
   "pygments_lexer": "ipython3",
   "version": "3.7.3"
  }
 },
 "nbformat": 4,
 "nbformat_minor": 2
}
