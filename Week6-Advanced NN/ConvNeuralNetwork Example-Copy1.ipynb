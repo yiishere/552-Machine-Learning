{
 "cells": [
  {
   "cell_type": "markdown",
   "metadata": {},
   "source": [
    "## Prerequisite Packages"
   ]
  },
  {
   "cell_type": "code",
   "execution_count": 73,
   "metadata": {},
   "outputs": [],
   "source": [
    "# Based on https://www.tensorflow.org/datasets/keras_example\n",
    "# use pip install <package> to find any packages that are missing\n",
    "import keras         # for fitting DNNs\n",
    "import tensorflow as tf\n",
    "import tensorflow_datasets as tfds\n",
    "import numpy as np\n",
    "import pandas as pd\n",
    "from sklearn.metrics import accuracy_score\n",
    "from matplotlib import pyplot as plt"
   ]
  },
  {
   "cell_type": "markdown",
   "metadata": {},
   "source": [
    "## We split the data into training and testing"
   ]
  },
  {
   "cell_type": "code",
   "execution_count": 74,
   "metadata": {},
   "outputs": [],
   "source": [
    "(ds_train,ds_val, ds_test), ds_info = tfds.load(\n",
    "    'mnist',\n",
    "    split=['train[:80%]','train[80%:]','test'],\n",
    "    shuffle_files=True,\n",
    "    as_supervised=True,\n",
    "    with_info=True,\n",
    ")\n"
   ]
  },
  {
   "cell_type": "markdown",
   "metadata": {},
   "source": [
    "## Functions: normalizing images, and returning labels/images"
   ]
  },
  {
   "cell_type": "code",
   "execution_count": 75,
   "metadata": {},
   "outputs": [],
   "source": [
    "def normalize_img(image, label):\n",
    "  \"\"\"Normalizes images: `uint8` -> `float32`.\"\"\"\n",
    "  return tf.cast(image, tf.float32) / 255., label\n",
    "def get_label(image,label):\n",
    "    return label\n",
    "def get_image(image,label):\n",
    "    return image\n"
   ]
  },
  {
   "cell_type": "markdown",
   "metadata": {},
   "source": [
    "## We apply these functions to extract model-ready data"
   ]
  },
  {
   "cell_type": "code",
   "execution_count": 76,
   "metadata": {},
   "outputs": [],
   "source": [
    "# this just normalizes the image\n",
    "ds_train = ds_train.map(\n",
    "    normalize_img, num_parallel_calls=tf.data.experimental.AUTOTUNE)\n",
    "\n",
    "# cache and prefetch save memory \n",
    "ds_train = ds_train.cache()\n",
    "# we shuffle data (reduces effects of order when training model)\n",
    "ds_train = ds_train.shuffle(ds_info.splits['train[:80%]'].num_examples)\n",
    "# batch size tells us how many samples are needed for stochastic gradient descent \n",
    "# (a small number like 32 is empirically found to be better)\n",
    "ds_train = ds_train.batch(32)# batch of 32   \n",
    "ds_train = ds_train.prefetch(tf.data.experimental.AUTOTUNE)\n",
    "\n",
    "\n",
    "ds_val = ds_val.map(\n",
    "    normalize_img, num_parallel_calls=tf.data.experimental.AUTOTUNE)\n",
    "ds_val = ds_val.cache()  #store and memtory >> Need to use cache if we don't want to get error\n",
    "ds_val = ds_val.shuffle(ds_info.splits['train[80%:]'].num_examples)  #shuffle\n",
    "ds_val = ds_val.batch(32)# batch of 32    \n",
    "ds_val = ds_val.prefetch(tf.data.experimental.AUTOTUNE) #Need to use prefetch if we don't want to get error \n",
    "\n",
    "#cache & prefetch: store dataset into memory, so can quickly train the model\n",
    "\n",
    "ds_test_label=ds_test.map(\n",
    "    get_label, num_parallel_calls=tf.data.experimental.AUTOTUNE)\n",
    "ds_test_images=ds_test.map(\n",
    "    get_image, num_parallel_calls=tf.data.experimental.AUTOTUNE)\n",
    "ds_test = ds_test.map(\n",
    "    normalize_img, num_parallel_calls=tf.data.experimental.AUTOTUNE)\n",
    "\n",
    "ds_test = ds_test.batch(32)\n",
    "ds_test = ds_test.cache()\n",
    "ds_test = ds_test.prefetch(tf.data.experimental.AUTOTUNE)\n"
   ]
  },
  {
   "cell_type": "markdown",
   "metadata": {},
   "source": [
    "## Model training"
   ]
  },
  {
   "cell_type": "code",
   "execution_count": 82,
   "metadata": {},
   "outputs": [
    {
     "name": "stdout",
     "output_type": "stream",
     "text": [
      "Epoch 1/30\n",
      "1500/1500 [==============================] - 112s 75ms/step - loss: 0.3262 - sparse_categorical_accuracy: 0.8978 - val_loss: 0.0659 - val_sparse_categorical_accuracy: 0.9800\n",
      "Epoch 2/30\n",
      "1500/1500 [==============================] - 113s 75ms/step - loss: 0.0695 - sparse_categorical_accuracy: 0.9774 - val_loss: 0.0480 - val_sparse_categorical_accuracy: 0.9845\n",
      "Epoch 3/30\n",
      "1500/1500 [==============================] - 108s 72ms/step - loss: 0.0488 - sparse_categorical_accuracy: 0.9846 - val_loss: 0.0458 - val_sparse_categorical_accuracy: 0.9858\n",
      "Epoch 4/30\n",
      "1500/1500 [==============================] - 105s 70ms/step - loss: 0.0410 - sparse_categorical_accuracy: 0.9866 - val_loss: 0.0388 - val_sparse_categorical_accuracy: 0.9883\n",
      "Epoch 5/30\n",
      "1500/1500 [==============================] - 107s 71ms/step - loss: 0.0336 - sparse_categorical_accuracy: 0.9893 - val_loss: 0.0437 - val_sparse_categorical_accuracy: 0.9865\n"
     ]
    }
   ],
   "source": [
    "\n",
    "from keras import backend as K\n",
    "\n",
    "dense=False\n",
    "if dense:\n",
    "    model = tf.keras.models.Sequential([\n",
    "      tf.keras.layers.Flatten(input_shape=(28, 28)),\n",
    "      tf.keras.layers.Dense(56,activation='relu'),\n",
    "    tf.keras.layers.Dropout(.2, input_shape=(56,)),\n",
    "      tf.keras.layers.Dense(24,activation='relu'),\n",
    "      tf.keras.layers.Dense(10)\n",
    "    ])\n",
    "else:\n",
    "    model = tf.keras.models.Sequential([])\n",
    "    model.add(tf.keras.layers.Conv2D(64, kernel_size=3, activation='relu', input_shape=(28,28,1))) \n",
    "    #kernal_size = 3: how many filter/weight we use, 'relu': BEST image activation\n",
    "    #model.add(tf.keras.layers.BatchNormalization())\n",
    "    model.add(tf.keras.layers.Conv2D(32, kernel_size=3, activation='relu'))\n",
    "    model.add(tf.keras.layers.Conv2D(16, kernel_size=3, activation='relu'))\n",
    "    #model.add(tf.keras.layers.BatchNormalization())\n",
    "    model.add(tf.keras.layers.Dropout(.45))\n",
    "    #model.add(tf.keras.layers.MaxPooling2D(pool_size=(2, 2),strides=(1, 1), padding='valid'))\n",
    "    model.add(tf.keras.layers.Flatten())\n",
    "    #model.add(tf.keras.layers.BatchNormalization())\n",
    "    #tf.keras.layers.Dense(24,activation='relu'),\n",
    "    model.add(tf.keras.layers.Dense(10))  #0,1,2,3,4,5,6,7,8,9\n",
    "\n",
    "model.compile(\n",
    "    optimizer=tf.keras.optimizers.Adam(0.001),\n",
    "    loss=tf.keras.losses.SparseCategoricalCrossentropy(from_logits=True),\n",
    "    metrics=[tf.keras.metrics.SparseCategoricalAccuracy()],\n",
    ")\n",
    "\n",
    "my_callbacks = [\n",
    "    tf.keras.callbacks.EarlyStopping(patience=1),\n",
    "    tf.keras.callbacks.ModelCheckpoint(filepath='model.{epoch:02d}-{val_loss:.2f}.h5'),\n",
    "    tf.keras.callbacks.TensorBoard(log_dir='./logs'),\n",
    "]\n",
    "\n",
    "history=model.fit(\n",
    "    ds_train,\n",
    "    epochs=30,\n",
    "    callbacks=my_callbacks,\n",
    "    validation_data=ds_val\n",
    ")\n"
   ]
  },
  {
   "cell_type": "code",
   "execution_count": 83,
   "metadata": {},
   "outputs": [
    {
     "data": {
      "text/plain": [
       "1562.5"
      ]
     },
     "execution_count": 83,
     "metadata": {},
     "output_type": "execute_result"
    }
   ],
   "source": [
    "50000/32"
   ]
  },
  {
   "cell_type": "code",
   "execution_count": null,
   "metadata": {},
   "outputs": [],
   "source": [
    "\n"
   ]
  },
  {
   "cell_type": "code",
   "execution_count": null,
   "metadata": {},
   "outputs": [],
   "source": [
    "\n"
   ]
  },
  {
   "cell_type": "markdown",
   "metadata": {},
   "source": [
    "## Here we check the accuracy in the held-out test dataset"
   ]
  },
  {
   "cell_type": "code",
   "execution_count": 84,
   "metadata": {},
   "outputs": [
    {
     "data": {
      "text/plain": [
       "0.9883"
      ]
     },
     "execution_count": 84,
     "metadata": {},
     "output_type": "execute_result"
    }
   ],
   "source": [
    "gt_labels=list(ds_test_label)\n",
    "predictions=[np.argmax(im) for im in model.predict(ds_test)]\n",
    "accuracy_score(predictions,gt_labels)"
   ]
  },
  {
   "cell_type": "markdown",
   "metadata": {},
   "source": [
    "## How does loss in training/validation vary with epoch?"
   ]
  },
  {
   "cell_type": "code",
   "execution_count": 85,
   "metadata": {},
   "outputs": [
    {
     "data": {
      "image/png": "[encoded data removed]",
      "text/plain": [
       "<Figure size 432x288 with 1 Axes>"
      ]
     },
     "metadata": {
      "needs_background": "light"
     },
     "output_type": "display_data"
    }
   ],
   "source": [
    "# These definitions make the plot code easier to read\n",
    "minvalx=np.argmin(history.history['val_loss'])+1\n",
    "minvaly=min(history.history['val_loss'])\n",
    "mintrainx=np.argmin(history.history['loss'])+1\n",
    "mintrainy=min(history.history['loss'])\n",
    "lowpoint_val=np.array([[minvalx,-10],[minvalx,minvaly]])\n",
    "lowpoint_train=np.array([[mintrainx,-10],[mintrainx,mintrainy]])\n",
    "\n",
    "# N.B., it's always good to label axes and lines\n",
    "plt.plot(list(range(1,len(history.history['val_loss'])+1)),history.history['val_loss'],'k-.',label='Validation Loss')\n",
    "plt.plot(lowpoint_val[:,0],lowpoint_val[:,1],'kx-',markersize=10,label='Minimum Validation Loss')\n",
    "plt.plot(list(range(1,len(history.history['loss'])+1)),history.history['loss'],'r--',label='Training Loss')\n",
    "plt.plot(lowpoint_train[:,0],lowpoint_train[:,1],'r+-',markersize=10,label='Minimum Training Loss')\n",
    "# creates legend from \"label\" attribute\n",
    "plt.legend()\n",
    "# y limit\n",
    "plt.ylim([0,0.3])\n",
    "# axes labels\n",
    "plt.ylabel('Loss')\n",
    "plt.xlabel('Epoch')\n",
    "# show the plot\n",
    "# to save figure, you can use plt.savefig(<file name>)\n",
    "plt.show()\n"
   ]
  },
  {
   "cell_type": "code",
   "execution_count": null,
   "metadata": {},
   "outputs": [],
   "source": []
  }
 ],
 "metadata": {
  "kernelspec": {
   "display_name": "Python 3",
   "language": "python",
   "name": "python3"
  },
  "language_info": {
   "codemirror_mode": {
    "name": "ipython",
    "version": 3
   },
   "file_extension": ".py",
   "mimetype": "text/x-python",
   "name": "python",
   "nbconvert_exporter": "python",
   "pygments_lexer": "ipython3",
   "version": "3.8.3"
  }
 },
 "nbformat": 4,
 "nbformat_minor": 4
}
